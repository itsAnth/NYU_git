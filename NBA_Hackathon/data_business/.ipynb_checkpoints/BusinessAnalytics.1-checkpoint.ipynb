{
 "cells": [
  {
   "cell_type": "code",
   "execution_count": 59,
   "metadata": {},
   "outputs": [],
   "source": [
    "import pandas as pd\n",
    "import statsmodels as sm\n",
    "import matplotlib.pyplot as plt\n",
    "import seaborn as sb\n",
    "%matplotlib inline"
   ]
  },
  {
   "cell_type": "markdown",
   "metadata": {},
   "source": [
    "<h3>Business Analytics: We have provided a sample of 460 games (230 from the 2016-17 season and 230 from the 2017-18 season) for which your task is to predict total international viewers. To assist with your model, we have provided viewership numbers from 1,000 games by country in each of the two seasons, plus stats on team and player performance and status. Using these inputs, we would like you to predict the total number of international viewers for each of the 460 games in the test set.</h3>\n",
    "\n",
    "<em>You will be graded on Mean Absolute Percentage Error (MAPE) on Total Viewers. We selected this metric due to natural scaling in the international viewership data. Further details on each source file and on the MAPE evaluation metric are provided in the prompt PDF made available here. Please return to us a copy of testset[Team_Name].csv with the “Total Viewers” column filled in with your response variable. Please note that each question is permitted a maximum of two file attachments. Please save your answer in a .csv file and save your code, spreadsheets and all other work in a zip file.</em>\n",
    "\n",
    "<a href=\"https://nba.app.box.com/s/1qdbusoz1fmp1uxd4634zxxoudyv3ogc\">LINK TO PROMPT .PDF</a>"
   ]
  },
  {
   "cell_type": "code",
   "execution_count": 4,
   "metadata": {},
   "outputs": [],
   "source": [
    "# File Names\n",
    "gameCSV = \"game_data.csv\"\n",
    "playerCSV = \"player_data.csv\"\n",
    "testCSV = \"test_set.csv\"\n",
    "trainingCSV = \"training_set.csv\""
   ]
  },
  {
   "cell_type": "code",
   "execution_count": 10,
   "metadata": {},
   "outputs": [],
   "source": [
    "# Importing CSV Files\n",
    "gameData = pd.read_csv(\"game_data.csv\")\n",
    "dfGameData = pd.DataFrame(gameData)\n",
    "\n",
    "playerData = pd.read_csv(\"player_data.csv\")\n",
    "dfPlayerData = pd.DataFrame(playerData)\n",
    "\n",
    "trainingSet = pd.DataFrame(pd.read_csv(\"training_set.csv\"))"
   ]
  },
  {
   "cell_type": "code",
   "execution_count": 13,
   "metadata": {},
   "outputs": [],
   "source": [
    "# Convert DateTime\n",
    "dfGameData[\"Game_Date\"] = pd.to_datetime(dfGameData[\"Game_Date\"], infer_datetime_format=True)\n",
    "dfPlayerData[\"Game_Date\"] = pd.to_datetime(dfPlayerData[\"Game_Date\"], infer_datetime_format=True)\n",
    "trainingSet[\"Game_Date\"] = pd.to_datetime(trainingSet[\"Game_Date\"], infer_datetime_format=True)"
   ]
  },
  {
   "cell_type": "markdown",
   "metadata": {},
   "source": [
    "About 18-19% of the games are missing data. \n",
    "Lets save a dataframe that drops those."
   ]
  },
  {
   "cell_type": "code",
   "execution_count": 54,
   "metadata": {},
   "outputs": [
    {
     "name": "stdout",
     "output_type": "stream",
     "text": [
      "Games in data with NAs: 4920\n",
      "Games in clean data: 4000\n"
     ]
    }
   ],
   "source": [
    "dfGameDataNoNA = dfGameData.dropna(how='any')\n",
    "print(\"Games in data with NAs: %d\" % len(dfGameData))\n",
    "print(\"Games in clean data: %d\" % len(dfGameDataNoNA))"
   ]
  },
  {
   "cell_type": "markdown",
   "metadata": {},
   "source": [
    "Looking at the different standard deviations, the variation in L2M scoring, 4Q Scoring will have a good measure.\n",
    "Also, let's make the assumption that better teams are going to have more viewers"
   ]
  },
  {
   "cell_type": "code",
   "execution_count": 57,
   "metadata": {},
   "outputs": [
    {
     "data": {
      "text/plain": [
       "Game_ID               50006.342937\n",
       "Wins_Entering_Gm         13.678415\n",
       "Losses_Entering_Gm       13.648129\n",
       "Team_Minutes              7.098147\n",
       "Final_Score              12.196321\n",
       "Lead_Changes              2.840888\n",
       "Ties                      2.427680\n",
       "Largest_Lead              9.094207\n",
       "Full_Timeouts             1.168729\n",
       "Short_Timeouts            0.909046\n",
       "Qtr_4_Score              10.376985\n",
       "L2M_Score                11.714484\n",
       "dtype: float64"
      ]
     },
     "execution_count": 57,
     "metadata": {},
     "output_type": "execute_result"
    }
   ],
   "source": [
    "dfGameData.std()"
   ]
  },
  {
   "cell_type": "markdown",
   "metadata": {},
   "source": [
    "### Multi-Colinearity Check\n",
    "Highest colinearity looks like its going to be on the overall scoring, which makes sense, more scoring in 4Q means total score is likely to be higher. Same with full timeouts are probably down in blowouts.\n",
    "The general lack of correation may make it a little harder to get a specific model.\n",
    "<em>NOTE: No normalization was done so scale differences minimize some interesting ideas</em>"
   ]
  },
  {
   "cell_type": "code",
   "execution_count": 65,
   "metadata": {},
   "outputs": [
    {
     "data": {
      "text/plain": [
       "<matplotlib.axes._subplots.AxesSubplot at 0x1a1994be90>"
      ]
     },
     "execution_count": 65,
     "metadata": {},
     "output_type": "execute_result"
    },
    {
     "data": {
      "image/png": "[encoded data removed]",
      "text/plain": [
       "<matplotlib.figure.Figure at 0x1a1992b390>"
      ]
     },
     "metadata": {},
     "output_type": "display_data"
    }
   ],
   "source": [
    "sb.heatmap(dfGameData.drop(columns=[\"Game_ID\"]).corr(method='pearson'), cmap='coolwarm')"
   ]
  },
  {
   "cell_type": "markdown",
   "metadata": {},
   "source": [
    "Lets keep it simple and make two linear regression models. One with all the variables, then one with selected \"must watch\" variables: Wins, Lead Changes, 4Q Scoring."
   ]
  },
  {
   "cell_type": "code",
   "execution_count": null,
   "metadata": {},
   "outputs": [],
   "source": []
  }
 ],
 "metadata": {
  "kernelspec": {
   "display_name": "Python 2",
   "language": "python",
   "name": "python2"
  },
  "language_info": {
   "codemirror_mode": {
    "name": "ipython",
    "version": 2
   },
   "file_extension": ".py",
   "mimetype": "text/x-python",
   "name": "python",
   "nbconvert_exporter": "python",
   "pygments_lexer": "ipython2",
   "version": "2.7.14"
  }
 },
 "nbformat": 4,
 "nbformat_minor": 2
}
